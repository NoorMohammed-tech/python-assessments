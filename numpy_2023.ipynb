{
  "cells": [
    {
      "cell_type": "code",
      "execution_count": null,
      "metadata": {
        "id": "5xYuMoNrkxsz"
      },
      "outputs": [],
      "source": [
        "import numpy as np"
      ]
    },
    {
      "cell_type": "code",
      "execution_count": null,
      "metadata": {
        "id": "6sx-jx6ikxs2"
      },
      "outputs": [],
      "source": [
        "import array"
      ]
    },
    {
      "cell_type": "code",
      "execution_count": null,
      "metadata": {
        "id": "TP1agDnDkxs3",
        "outputId": "89ada7ee-253a-4176-dea3-8a66ad9f4945"
      },
      "outputs": [
        {
          "data": {
            "text/plain": [
              "numpy.ndarray"
            ]
          },
          "execution_count": 4,
          "metadata": {},
          "output_type": "execute_result"
        }
      ],
      "source": [
        "type(np.array([1,2,3,4,5]))"
      ]
    },
    {
      "cell_type": "code",
      "execution_count": null,
      "metadata": {
        "id": "_x9DvDJLkxs5",
        "outputId": "4bfcf4fd-4ddf-4d2c-add5-706a87504ede"
      },
      "outputs": [
        {
          "data": {
            "text/plain": [
              "array([1, 2, 3, 4, 5])"
            ]
          },
          "execution_count": 6,
          "metadata": {},
          "output_type": "execute_result"
        }
      ],
      "source": [
        "np.array([1,2,3,4,5])"
      ]
    },
    {
      "cell_type": "code",
      "execution_count": null,
      "metadata": {
        "id": "pNcSh-mDkxs6",
        "outputId": "b10ae278-7185-46f0-e044-38da2adc2f0a"
      },
      "outputs": [
        {
          "data": {
            "text/plain": [
              "array(['1', '2', '3', '4', '5', 'sudh', '(4+8j)'], dtype='<U11')"
            ]
          },
          "execution_count": 5,
          "metadata": {},
          "output_type": "execute_result"
        }
      ],
      "source": [
        "np.array([1,2,3,4,5,\"sudh\" , 4+8j,])"
      ]
    },
    {
      "cell_type": "code",
      "execution_count": null,
      "metadata": {
        "id": "Be1jPp-Nkxs6",
        "outputId": "60270512-998e-4f78-a58e-d4390bc4e897"
      },
      "outputs": [
        {
          "data": {
            "text/plain": [
              "array([1. , 2. , 3. , 4.5, 6. ])"
            ]
          },
          "execution_count": 7,
          "metadata": {},
          "output_type": "execute_result"
        }
      ],
      "source": [
        "np.array([1,2,3,4.5,6.0])"
      ]
    },
    {
      "cell_type": "code",
      "execution_count": null,
      "metadata": {
        "id": "DT_-JB39kxs7",
        "outputId": "b12bca7e-dad2-4d09-ec96-c288674fa084"
      },
      "outputs": [
        {
          "data": {
            "text/plain": [
              "array([[1, 3],\n",
              "       [3, 4]])"
            ]
          },
          "execution_count": 8,
          "metadata": {},
          "output_type": "execute_result"
        }
      ],
      "source": [
        "np.array([[1,3],[3,4]])"
      ]
    },
    {
      "cell_type": "code",
      "execution_count": null,
      "metadata": {
        "id": "EQaewzCgkxs7",
        "outputId": "8dc365b6-242c-4e68-c2df-dd3e3682a327"
      },
      "outputs": [
        {
          "data": {
            "text/plain": [
              "array([[1, 3],\n",
              "       [3, 4],\n",
              "       [6, 7]])"
            ]
          },
          "execution_count": 9,
          "metadata": {},
          "output_type": "execute_result"
        }
      ],
      "source": [
        "np.array([[1,3],[3,4],[6,7]])"
      ]
    },
    {
      "cell_type": "code",
      "execution_count": null,
      "metadata": {
        "id": "mAP2H0yOkxs8",
        "outputId": "e165d29f-996e-4bcc-94c6-318c6b7f9f4d"
      },
      "outputs": [
        {
          "name": "stderr",
          "output_type": "stream",
          "text": [
            "<ipython-input-10-2fc331c0f648>:1: VisibleDeprecationWarning: Creating an ndarray from ragged nested sequences (which is a list-or-tuple of lists-or-tuples-or ndarrays with different lengths or shapes) is deprecated. If you meant to do this, you must specify 'dtype=object' when creating the ndarray\n",
            "  np.array([[1,3],[3,4],[6,7,8]])\n"
          ]
        },
        {
          "data": {
            "text/plain": [
              "array([list([1, 3]), list([3, 4]), list([6, 7, 8])], dtype=object)"
            ]
          },
          "execution_count": 10,
          "metadata": {},
          "output_type": "execute_result"
        }
      ],
      "source": [
        "np.array([[1,3],[3,4],[6,7,8]])"
      ]
    },
    {
      "cell_type": "code",
      "execution_count": null,
      "metadata": {
        "id": "ecEQMSpakxs8",
        "outputId": "20e5f0d7-5471-4971-d0ac-3889face120d"
      },
      "outputs": [
        {
          "data": {
            "text/plain": [
              "array([[[1, 3],\n",
              "        [3, 4]],\n",
              "\n",
              "       [[1, 3],\n",
              "        [3, 4]]])"
            ]
          },
          "execution_count": 11,
          "metadata": {},
          "output_type": "execute_result"
        }
      ],
      "source": [
        "np.array([[[1,3],[3,4]],[[1,3],[3,4]]])"
      ]
    },
    {
      "cell_type": "code",
      "execution_count": null,
      "metadata": {
        "id": "yN4hKVtQkxs8",
        "outputId": "49e6a4a4-b862-431d-828b-0bef0479d11b"
      },
      "outputs": [
        {
          "data": {
            "text/plain": [
              "array([[[1, 2, 3]]])"
            ]
          },
          "execution_count": 14,
          "metadata": {},
          "output_type": "execute_result"
        }
      ],
      "source": [
        "np.array([1,2,3] , ndmin = 3)"
      ]
    },
    {
      "cell_type": "code",
      "execution_count": null,
      "metadata": {
        "id": "FWf2f6cUkxs9",
        "outputId": "503bd50d-1852-493a-e39e-ae2c48736768"
      },
      "outputs": [
        {
          "data": {
            "text/plain": [
              "array([1.+0.j, 2.+0.j, 3.+0.j])"
            ]
          },
          "execution_count": 15,
          "metadata": {},
          "output_type": "execute_result"
        }
      ],
      "source": [
        "np.array([1,2,3] , dtype = complex)"
      ]
    },
    {
      "cell_type": "code",
      "execution_count": null,
      "metadata": {
        "id": "xfQyIEU8kxs9"
      },
      "outputs": [],
      "source": [
        "arr = np.array([(1,2) , (4,5)],dtype = [(\"a\",'<i4'), (\"b\",'<i8')])"
      ]
    },
    {
      "cell_type": "code",
      "execution_count": null,
      "metadata": {
        "id": "cbGerkFskxs-",
        "outputId": "3616b8e9-8874-4a5d-b74d-54c022545fc5"
      },
      "outputs": [
        {
          "data": {
            "text/plain": [
              "array([(1, 2), (4, 5)], dtype=[('a', '<i4'), ('b', '<i8')])"
            ]
          },
          "execution_count": 31,
          "metadata": {},
          "output_type": "execute_result"
        }
      ],
      "source": [
        "arr"
      ]
    },
    {
      "cell_type": "code",
      "execution_count": null,
      "metadata": {
        "id": "9bJLT_Zikxs-",
        "outputId": "d95b73c8-6a30-4e9d-b11f-a5dec294442e"
      },
      "outputs": [
        {
          "data": {
            "text/plain": [
              "numpy.int32"
            ]
          },
          "execution_count": 32,
          "metadata": {},
          "output_type": "execute_result"
        }
      ],
      "source": [
        "type(arr[0][0])"
      ]
    },
    {
      "cell_type": "code",
      "execution_count": null,
      "metadata": {
        "id": "niGsUDCFkxs-",
        "outputId": "c3ed997c-371e-49ec-a4fb-17d78194110e"
      },
      "outputs": [
        {
          "data": {
            "text/plain": [
              "numpy.int64"
            ]
          },
          "execution_count": 25,
          "metadata": {},
          "output_type": "execute_result"
        }
      ],
      "source": [
        "type(arr[0][1])"
      ]
    },
    {
      "cell_type": "code",
      "execution_count": null,
      "metadata": {
        "id": "YQCXjaeWkxs_"
      },
      "outputs": [],
      "source": [
        "arr  = np.array([[1,3],[3,4]])"
      ]
    },
    {
      "cell_type": "code",
      "execution_count": null,
      "metadata": {
        "id": "wqkDiy1Ekxs_",
        "outputId": "5892b017-cc14-4c6c-b79e-2f44182a80cc"
      },
      "outputs": [
        {
          "data": {
            "text/plain": [
              "array([[1, 3],\n",
              "       [3, 4]])"
            ]
          },
          "execution_count": 34,
          "metadata": {},
          "output_type": "execute_result"
        }
      ],
      "source": [
        "arr"
      ]
    },
    {
      "cell_type": "code",
      "execution_count": null,
      "metadata": {
        "id": "8f9j5cLukxs_",
        "outputId": "40ddb09a-04bd-4cf9-98ee-25bb9bb69352"
      },
      "outputs": [
        {
          "data": {
            "text/plain": [
              "numpy.int32"
            ]
          },
          "execution_count": 37,
          "metadata": {},
          "output_type": "execute_result"
        }
      ],
      "source": [
        "type(arr[0][1])"
      ]
    },
    {
      "cell_type": "code",
      "execution_count": null,
      "metadata": {
        "id": "WFquSUZgkxtA"
      },
      "outputs": [],
      "source": [
        "mat = np.matrix(arr)"
      ]
    },
    {
      "cell_type": "code",
      "execution_count": null,
      "metadata": {
        "id": "ot1WVv_SkxtA"
      },
      "outputs": [],
      "source": [
        "l = [3,4,5,76,7]"
      ]
    },
    {
      "cell_type": "code",
      "execution_count": null,
      "metadata": {
        "id": "MWw6liedkxtA",
        "outputId": "66df357f-3f82-4cb2-fa47-63e9fa24d86e"
      },
      "outputs": [
        {
          "data": {
            "text/plain": [
              "array([ 3,  4,  5, 76,  7])"
            ]
          },
          "execution_count": 41,
          "metadata": {},
          "output_type": "execute_result"
        }
      ],
      "source": [
        "np.array(l)"
      ]
    },
    {
      "cell_type": "code",
      "execution_count": null,
      "metadata": {
        "id": "yrafVmO4kxtA",
        "outputId": "fbe42e98-ed45-433d-8e57-dce4fa997fd8"
      },
      "outputs": [
        {
          "data": {
            "text/plain": [
              "array([ 3,  4,  5, 76,  7])"
            ]
          },
          "execution_count": 42,
          "metadata": {},
          "output_type": "execute_result"
        }
      ],
      "source": [
        "np.asarray(l)"
      ]
    },
    {
      "cell_type": "code",
      "execution_count": null,
      "metadata": {
        "id": "FmTZ7FbkkxtA",
        "outputId": "f0e2ec1c-7180-4750-8331-3cb827b3f352"
      },
      "outputs": [
        {
          "data": {
            "text/plain": [
              "array([ 3,  4,  5, 76,  7])"
            ]
          },
          "execution_count": 43,
          "metadata": {},
          "output_type": "execute_result"
        }
      ],
      "source": [
        "np.asanyarray(l)"
      ]
    },
    {
      "cell_type": "code",
      "execution_count": null,
      "metadata": {
        "id": "aY72UeI9kxtA",
        "outputId": "ebea3bfe-a12f-400a-b0b5-7ccc7c4ddff3"
      },
      "outputs": [
        {
          "data": {
            "text/plain": [
              "matrix([[1, 3],\n",
              "        [3, 4]])"
            ]
          },
          "execution_count": 45,
          "metadata": {},
          "output_type": "execute_result"
        }
      ],
      "source": [
        "np.asanyarray(mat)"
      ]
    },
    {
      "cell_type": "code",
      "execution_count": null,
      "metadata": {
        "id": "IkrEk0H5kxtB",
        "outputId": "5436c73f-2e30-46ce-abf1-b1762603ebda"
      },
      "outputs": [
        {
          "data": {
            "text/plain": [
              "array([[1, 3],\n",
              "       [3, 4]])"
            ]
          },
          "execution_count": 46,
          "metadata": {},
          "output_type": "execute_result"
        }
      ],
      "source": [
        "np.asarray(mat)"
      ]
    },
    {
      "cell_type": "code",
      "execution_count": null,
      "metadata": {
        "id": "jcSqS9pzkxtB",
        "outputId": "9c0da14a-d020-41db-dae9-798c31d204d9"
      },
      "outputs": [
        {
          "data": {
            "text/plain": [
              "False"
            ]
          },
          "execution_count": 49,
          "metadata": {},
          "output_type": "execute_result"
        }
      ],
      "source": [
        "issubclass(np.ndarray,np.matrix )"
      ]
    },
    {
      "cell_type": "code",
      "execution_count": null,
      "metadata": {
        "id": "NDSIDMk3kxtB",
        "outputId": "eff30b8f-5f7f-457c-cc90-4f054f27dc43"
      },
      "outputs": [
        {
          "data": {
            "text/plain": [
              "array([[1, 3],\n",
              "       [3, 4]])"
            ]
          },
          "execution_count": 50,
          "metadata": {},
          "output_type": "execute_result"
        }
      ],
      "source": [
        "arr"
      ]
    },
    {
      "cell_type": "code",
      "execution_count": null,
      "metadata": {
        "id": "EisccIeykxtC"
      },
      "outputs": [],
      "source": [
        "a= arr"
      ]
    },
    {
      "cell_type": "code",
      "execution_count": null,
      "metadata": {
        "id": "8xwU4GOAkxtC"
      },
      "outputs": [],
      "source": [
        "b = np.copy(arr)"
      ]
    },
    {
      "cell_type": "code",
      "execution_count": null,
      "metadata": {
        "id": "aJHthSyDkxtC"
      },
      "outputs": [],
      "source": [
        "arr[0][0] = 67"
      ]
    },
    {
      "cell_type": "code",
      "execution_count": null,
      "metadata": {
        "id": "F5aTlD23kxtC",
        "outputId": "9e4c5b30-843b-42b1-d4f9-733cd3a82fdf"
      },
      "outputs": [
        {
          "data": {
            "text/plain": [
              "array([[67,  3],\n",
              "       [ 3,  4]])"
            ]
          },
          "execution_count": 54,
          "metadata": {},
          "output_type": "execute_result"
        }
      ],
      "source": [
        "arr"
      ]
    },
    {
      "cell_type": "code",
      "execution_count": null,
      "metadata": {
        "id": "pdnE0pmpkxtC",
        "outputId": "862217ef-d26d-409f-d3c0-37c14d948423"
      },
      "outputs": [
        {
          "data": {
            "text/plain": [
              "array([[67,  3],\n",
              "       [ 3,  4]])"
            ]
          },
          "execution_count": 55,
          "metadata": {},
          "output_type": "execute_result"
        }
      ],
      "source": [
        "a"
      ]
    },
    {
      "cell_type": "code",
      "execution_count": null,
      "metadata": {
        "id": "HGpVNp0SkxtD",
        "outputId": "844592da-3b83-43c1-97b8-2dfe534c8397"
      },
      "outputs": [
        {
          "data": {
            "text/plain": [
              "array([[1, 3],\n",
              "       [3, 4]])"
            ]
          },
          "execution_count": 56,
          "metadata": {},
          "output_type": "execute_result"
        }
      ],
      "source": [
        "b"
      ]
    },
    {
      "cell_type": "code",
      "execution_count": null,
      "metadata": {
        "id": "t7jx-7bPkxtD",
        "outputId": "2b1d69e4-bc65-4159-fae4-2224e0ec80a8"
      },
      "outputs": [
        {
          "data": {
            "text/plain": [
              "array([3, 4])"
            ]
          },
          "execution_count": 58,
          "metadata": {},
          "output_type": "execute_result"
        }
      ],
      "source": [
        "arr[-1]"
      ]
    },
    {
      "cell_type": "code",
      "execution_count": null,
      "metadata": {
        "id": "ynYHPVCnkxtD",
        "outputId": "79b6bbfd-efd2-4ac5-87e2-9e4b944ac40a"
      },
      "outputs": [
        {
          "name": "stdout",
          "output_type": "stream",
          "text": [
            "[67  3]\n",
            "[3 4]\n"
          ]
        }
      ],
      "source": [
        "for i in arr:\n",
        "    print(i)"
      ]
    },
    {
      "cell_type": "code",
      "execution_count": null,
      "metadata": {
        "id": "VscQTSA2kxtE",
        "outputId": "148c1970-b963-48a8-c3fc-128b2b90a384"
      },
      "outputs": [
        {
          "data": {
            "text/plain": [
              "numpy.ndarray"
            ]
          },
          "execution_count": 61,
          "metadata": {},
          "output_type": "execute_result"
        }
      ],
      "source": [
        "type(np.fromfunction(lambda i , j :i==j,(4,4)))"
      ]
    },
    {
      "cell_type": "code",
      "execution_count": null,
      "metadata": {
        "id": "Xs_Kk1DTkxtE",
        "outputId": "898f4ab1-9fe8-4251-c665-c674a4137f93"
      },
      "outputs": [
        {
          "data": {
            "text/plain": [
              "array([[ True, False, False, False],\n",
              "       [False,  True, False, False],\n",
              "       [False, False,  True, False],\n",
              "       [False, False, False,  True]])"
            ]
          },
          "execution_count": 62,
          "metadata": {},
          "output_type": "execute_result"
        }
      ],
      "source": [
        "np.fromfunction(lambda i , j :i==j,(4,4))"
      ]
    },
    {
      "cell_type": "code",
      "execution_count": null,
      "metadata": {
        "id": "CEsHJQRzkxtE",
        "outputId": "60011477-2cd4-466f-a084-81017090753d"
      },
      "outputs": [
        {
          "data": {
            "text/plain": [
              "array([[0., 0., 0.],\n",
              "       [0., 1., 2.],\n",
              "       [0., 2., 4.]])"
            ]
          },
          "execution_count": 64,
          "metadata": {},
          "output_type": "execute_result"
        }
      ],
      "source": [
        "np.fromfunction(lambda i , j :i*j,(3,3))"
      ]
    },
    {
      "cell_type": "code",
      "execution_count": null,
      "metadata": {
        "id": "FpbwNCsmkxtE",
        "outputId": "fa634d0a-fd89-4fc1-94e8-b5f8e63f94f5"
      },
      "outputs": [
        {
          "data": {
            "text/plain": [
              "array([[1., 0., 0.],\n",
              "       [1., 1., 1.],\n",
              "       [1., 2., 4.]])"
            ]
          },
          "execution_count": 65,
          "metadata": {},
          "output_type": "execute_result"
        }
      ],
      "source": [
        "np.fromfunction(lambda i , j :i**j,(3,3))"
      ]
    },
    {
      "cell_type": "code",
      "execution_count": null,
      "metadata": {
        "id": "8HAHdCGykxtF",
        "outputId": "74cad2e8-9f77-4e36-945d-6cbce6ad8dd1"
      },
      "outputs": [
        {
          "name": "stderr",
          "output_type": "stream",
          "text": [
            "<ipython-input-66-a854da4aa4ba>:1: RuntimeWarning: divide by zero encountered in true_divide\n",
            "  np.fromfunction(lambda i , j :i/j,(3,3))\n",
            "<ipython-input-66-a854da4aa4ba>:1: RuntimeWarning: invalid value encountered in true_divide\n",
            "  np.fromfunction(lambda i , j :i/j,(3,3))\n"
          ]
        },
        {
          "data": {
            "text/plain": [
              "array([[nan, 0. , 0. ],\n",
              "       [inf, 1. , 0.5],\n",
              "       [inf, 2. , 1. ]])"
            ]
          },
          "execution_count": 66,
          "metadata": {},
          "output_type": "execute_result"
        }
      ],
      "source": [
        "np.fromfunction(lambda i , j :i/j,(3,3))"
      ]
    },
    {
      "cell_type": "code",
      "execution_count": null,
      "metadata": {
        "id": "b-MNmKjFkxtF",
        "outputId": "e754f003-57c2-48b2-a7a2-6460374530dc"
      },
      "outputs": [
        {
          "ename": "ZeroDivisionError",
          "evalue": "division by zero",
          "output_type": "error",
          "traceback": [
            "\u001b[1;31m---------------------------------------------------------------------------\u001b[0m",
            "\u001b[1;31mZeroDivisionError\u001b[0m                         Traceback (most recent call last)",
            "\u001b[1;32m<ipython-input-67-9ab73e148374>\u001b[0m in \u001b[0;36m<module>\u001b[1;34m\u001b[0m\n\u001b[1;32m----> 1\u001b[1;33m \u001b[1;36m0\u001b[0m\u001b[1;33m/\u001b[0m\u001b[1;36m0\u001b[0m\u001b[1;33m\u001b[0m\u001b[1;33m\u001b[0m\u001b[0m\n\u001b[0m",
            "\u001b[1;31mZeroDivisionError\u001b[0m: division by zero"
          ]
        }
      ],
      "source": [
        "0/0"
      ]
    },
    {
      "cell_type": "code",
      "execution_count": null,
      "metadata": {
        "id": "_fJ8o4uFkxtF",
        "outputId": "855c2a82-48cd-40be-f2d0-5d44d77e05aa"
      },
      "outputs": [
        {
          "ename": "ZeroDivisionError",
          "evalue": "division by zero",
          "output_type": "error",
          "traceback": [
            "\u001b[1;31m---------------------------------------------------------------------------\u001b[0m",
            "\u001b[1;31mZeroDivisionError\u001b[0m                         Traceback (most recent call last)",
            "\u001b[1;32m<ipython-input-68-9e1622b385b6>\u001b[0m in \u001b[0;36m<module>\u001b[1;34m\u001b[0m\n\u001b[1;32m----> 1\u001b[1;33m \u001b[1;36m1\u001b[0m\u001b[1;33m/\u001b[0m\u001b[1;36m0\u001b[0m\u001b[1;33m\u001b[0m\u001b[1;33m\u001b[0m\u001b[0m\n\u001b[0m",
            "\u001b[1;31mZeroDivisionError\u001b[0m: division by zero"
          ]
        }
      ],
      "source": [
        "1/0"
      ]
    },
    {
      "cell_type": "code",
      "execution_count": null,
      "metadata": {
        "id": "NU58OhHJkxtG"
      },
      "outputs": [],
      "source": [
        "gen = (i*i for i in range(5))"
      ]
    },
    {
      "cell_type": "code",
      "execution_count": null,
      "metadata": {
        "id": "2Re_S2crkxtG"
      },
      "outputs": [],
      "source": [
        "def test(x):\n",
        "    yield x"
      ]
    },
    {
      "cell_type": "code",
      "execution_count": null,
      "metadata": {
        "id": "Pv3VYDGJkxtG",
        "outputId": "7eef5e5d-3b20-481f-fa60-3511158637d2"
      },
      "outputs": [
        {
          "data": {
            "text/plain": [
              "<generator object test at 0x000002858582D4A0>"
            ]
          },
          "execution_count": 73,
          "metadata": {},
          "output_type": "execute_result"
        }
      ],
      "source": [
        "test(5)"
      ]
    },
    {
      "cell_type": "code",
      "execution_count": null,
      "metadata": {
        "id": "6zII0ETwkxtH"
      },
      "outputs": [],
      "source": [
        "gen\n",
        "for i in gen :\n",
        "    print(i)"
      ]
    },
    {
      "cell_type": "code",
      "execution_count": null,
      "metadata": {
        "id": "RCrMTz-_kxtH",
        "outputId": "65e4d0dd-11c4-4767-8c25-35698fcfc254"
      },
      "outputs": [
        {
          "data": {
            "text/plain": [
              "array([0, 1, 2, 3, 4])"
            ]
          },
          "execution_count": 79,
          "metadata": {},
          "output_type": "execute_result"
        }
      ],
      "source": [
        "np.fromiter(range(5),dtype= int)"
      ]
    },
    {
      "cell_type": "code",
      "execution_count": null,
      "metadata": {
        "id": "dd1KP3pUkxtI",
        "outputId": "a18d4cbf-db0f-4f82-bf03-30d6bf45d847"
      },
      "outputs": [
        {
          "data": {
            "text/plain": [
              "array([1, 3, 4, 5, 5])"
            ]
          },
          "execution_count": 84,
          "metadata": {},
          "output_type": "execute_result"
        }
      ],
      "source": [
        "np.fromstring('1,3,4,5,5' , sep = ',', dtype= int)"
      ]
    },
    {
      "cell_type": "code",
      "execution_count": null,
      "metadata": {
        "id": "Rcy5pmFXkxtI",
        "outputId": "96a09699-5e99-409c-94db-065b2a47dfe6"
      },
      "outputs": [
        {
          "data": {
            "text/plain": [
              "array([  456.+0.j,   456.+0.j,  3454.+0.j, 34543.+0.j])"
            ]
          },
          "execution_count": 86,
          "metadata": {},
          "output_type": "execute_result"
        }
      ],
      "source": [
        "np.fromstring(\"456 456 3454 34543\" ,sep = ' ', dtype= complex)"
      ]
    },
    {
      "cell_type": "code",
      "execution_count": null,
      "metadata": {
        "id": "w6fbbV81kxtI"
      },
      "outputs": [],
      "source": [
        "l = [3,4,5,6,7,8]"
      ]
    },
    {
      "cell_type": "code",
      "execution_count": null,
      "metadata": {
        "id": "Sa7P2ER8kxtI"
      },
      "outputs": [],
      "source": [
        "arr = np.array(l)"
      ]
    },
    {
      "cell_type": "code",
      "execution_count": null,
      "metadata": {
        "id": "-TKOn3ClkxtI"
      },
      "outputs": [],
      "source": [
        "arr1 = np.array([[1,2,3,4] , [2,3,4,5] , [4,5,6,7]])"
      ]
    },
    {
      "cell_type": "code",
      "execution_count": null,
      "metadata": {
        "id": "ObB9Z6KekxtI",
        "outputId": "4182ff6a-974f-48d8-e449-c43117f89e88"
      },
      "outputs": [
        {
          "data": {
            "text/plain": [
              "array([[1, 2, 3, 4],\n",
              "       [2, 3, 4, 5],\n",
              "       [4, 5, 6, 7]])"
            ]
          },
          "execution_count": 95,
          "metadata": {},
          "output_type": "execute_result"
        }
      ],
      "source": [
        "arr1"
      ]
    },
    {
      "cell_type": "code",
      "execution_count": null,
      "metadata": {
        "id": "hicM6KxbkxtJ",
        "outputId": "80603d6d-48a6-46d2-e4f4-f6efcf96602d"
      },
      "outputs": [
        {
          "data": {
            "text/plain": [
              "numpy.ndarray"
            ]
          },
          "execution_count": 96,
          "metadata": {},
          "output_type": "execute_result"
        }
      ],
      "source": [
        "type(arr)"
      ]
    },
    {
      "cell_type": "code",
      "execution_count": null,
      "metadata": {
        "id": "lKjCsViPkxtJ",
        "outputId": "fc1b6ef5-5462-4598-b773-a956e62e7485"
      },
      "outputs": [
        {
          "data": {
            "text/plain": [
              "2"
            ]
          },
          "execution_count": 97,
          "metadata": {},
          "output_type": "execute_result"
        }
      ],
      "source": [
        "arr1.ndim"
      ]
    },
    {
      "cell_type": "code",
      "execution_count": null,
      "metadata": {
        "id": "d-QmFbmOkxtJ",
        "outputId": "e22bbfac-ea24-4d8e-aa79-dd9bd3bb9518"
      },
      "outputs": [
        {
          "data": {
            "text/plain": [
              "12"
            ]
          },
          "execution_count": 98,
          "metadata": {},
          "output_type": "execute_result"
        }
      ],
      "source": [
        "arr1.size"
      ]
    },
    {
      "cell_type": "code",
      "execution_count": null,
      "metadata": {
        "id": "ah4tXfYmkxtJ",
        "outputId": "8ce65230-cf35-447b-9788-cbe31467ce72"
      },
      "outputs": [
        {
          "data": {
            "text/plain": [
              "(3, 4)"
            ]
          },
          "execution_count": 99,
          "metadata": {},
          "output_type": "execute_result"
        }
      ],
      "source": [
        "arr1.shape\n"
      ]
    },
    {
      "cell_type": "code",
      "execution_count": null,
      "metadata": {
        "id": "kIjZz_ObkxtK",
        "outputId": "7e992ef5-dc30-4429-a5c3-cf40ff5651bd"
      },
      "outputs": [
        {
          "data": {
            "text/plain": [
              "dtype('int32')"
            ]
          },
          "execution_count": 100,
          "metadata": {},
          "output_type": "execute_result"
        }
      ],
      "source": [
        "arr1.dtype"
      ]
    },
    {
      "cell_type": "code",
      "execution_count": null,
      "metadata": {
        "id": "tuy-_KAPkxtK",
        "outputId": "b3708c0f-df20-4184-8008-12f59bb22891"
      },
      "outputs": [
        {
          "data": {
            "text/plain": [
              "array([3, 4, 5, 6, 7, 8])"
            ]
          },
          "execution_count": 101,
          "metadata": {},
          "output_type": "execute_result"
        }
      ],
      "source": [
        "arr"
      ]
    },
    {
      "cell_type": "code",
      "execution_count": null,
      "metadata": {
        "id": "vaRAMo0kkxtK",
        "outputId": "2136685c-780e-4e6c-9555-55aef09190f4"
      },
      "outputs": [
        {
          "data": {
            "text/plain": [
              "6"
            ]
          },
          "execution_count": 102,
          "metadata": {},
          "output_type": "execute_result"
        }
      ],
      "source": [
        "arr.size"
      ]
    },
    {
      "cell_type": "code",
      "execution_count": null,
      "metadata": {
        "id": "xgoU9IGAkxtL",
        "outputId": "de5530a8-bbfe-4ae6-fea8-1eff2d3be917"
      },
      "outputs": [
        {
          "data": {
            "text/plain": [
              "1"
            ]
          },
          "execution_count": 103,
          "metadata": {},
          "output_type": "execute_result"
        }
      ],
      "source": [
        "arr.ndim"
      ]
    },
    {
      "cell_type": "code",
      "execution_count": null,
      "metadata": {
        "id": "laggRlMKkxtL",
        "outputId": "a9a01e4a-02be-48ee-8d06-94a35e2069e8"
      },
      "outputs": [
        {
          "data": {
            "text/plain": [
              "(6,)"
            ]
          },
          "execution_count": 104,
          "metadata": {},
          "output_type": "execute_result"
        }
      ],
      "source": [
        "arr.shape"
      ]
    },
    {
      "cell_type": "code",
      "execution_count": null,
      "metadata": {
        "id": "-HCiFtLzkxtL"
      },
      "outputs": [],
      "source": [
        "arr2 = np.array([[[1,2,3,4],[4,5,6,7]],[[1,2,3,4],[4,5,6,7]]])"
      ]
    },
    {
      "cell_type": "code",
      "execution_count": null,
      "metadata": {
        "id": "kqNEXDafkxtM",
        "outputId": "7d49dc82-55c8-4c40-f5c2-879089b3ff66"
      },
      "outputs": [
        {
          "data": {
            "text/plain": [
              "array([[[1, 2, 3, 4],\n",
              "        [4, 5, 6, 7]],\n",
              "\n",
              "       [[1, 2, 3, 4],\n",
              "        [4, 5, 6, 7]]])"
            ]
          },
          "execution_count": 109,
          "metadata": {},
          "output_type": "execute_result"
        }
      ],
      "source": [
        "arr2\n"
      ]
    },
    {
      "cell_type": "code",
      "execution_count": null,
      "metadata": {
        "id": "qb46n6VAkxtM",
        "outputId": "be449045-1c83-4985-8ce8-82b51761e9d3"
      },
      "outputs": [
        {
          "data": {
            "text/plain": [
              "16"
            ]
          },
          "execution_count": 110,
          "metadata": {},
          "output_type": "execute_result"
        }
      ],
      "source": [
        "arr2.size"
      ]
    },
    {
      "cell_type": "code",
      "execution_count": null,
      "metadata": {
        "id": "daWLW4mRkxtM",
        "outputId": "967bd7a4-6cfd-4813-96eb-3896cfbc5147"
      },
      "outputs": [
        {
          "data": {
            "text/plain": [
              "3"
            ]
          },
          "execution_count": 111,
          "metadata": {},
          "output_type": "execute_result"
        }
      ],
      "source": [
        "arr2.ndim"
      ]
    },
    {
      "cell_type": "code",
      "execution_count": null,
      "metadata": {
        "id": "ZSYv2FfFkxtM",
        "outputId": "1ebef137-1eef-4b51-880c-26794e3dcda7"
      },
      "outputs": [
        {
          "data": {
            "text/plain": [
              "(2, 2, 4)"
            ]
          },
          "execution_count": 112,
          "metadata": {},
          "output_type": "execute_result"
        }
      ],
      "source": [
        "arr2.shape"
      ]
    },
    {
      "cell_type": "code",
      "execution_count": null,
      "metadata": {
        "id": "_Hd5glhckxtN"
      },
      "outputs": [],
      "source": [
        "arr4 = np.array([[[[1,2,3,4],[4,5,6,7]],[[1,2,3,4],[4,5,6,7]],[[1,2,3,4],[4,5,6,7]],[[1,2,3,4],[4,5,6,7]]]])"
      ]
    },
    {
      "cell_type": "code",
      "execution_count": null,
      "metadata": {
        "id": "TT9Pemb1kxtN",
        "outputId": "92ad2136-59b0-45e7-ca11-713db985423e"
      },
      "outputs": [
        {
          "data": {
            "text/plain": [
              "array([[[[1, 2, 3, 4],\n",
              "         [4, 5, 6, 7]],\n",
              "\n",
              "        [[1, 2, 3, 4],\n",
              "         [4, 5, 6, 7]],\n",
              "\n",
              "        [[1, 2, 3, 4],\n",
              "         [4, 5, 6, 7]],\n",
              "\n",
              "        [[1, 2, 3, 4],\n",
              "         [4, 5, 6, 7]]]])"
            ]
          },
          "execution_count": 117,
          "metadata": {},
          "output_type": "execute_result"
        }
      ],
      "source": [
        "arr4"
      ]
    },
    {
      "cell_type": "code",
      "execution_count": null,
      "metadata": {
        "id": "r-IjzqoLkxtO",
        "outputId": "51297254-6f9f-4702-d5f6-ad773b45248f"
      },
      "outputs": [
        {
          "data": {
            "text/plain": [
              "4"
            ]
          },
          "execution_count": 118,
          "metadata": {},
          "output_type": "execute_result"
        }
      ],
      "source": [
        "arr4.ndim"
      ]
    },
    {
      "cell_type": "code",
      "execution_count": null,
      "metadata": {
        "id": "dvuT6LEJkxtO",
        "outputId": "98686e2b-c851-452a-b088-fb9113161865"
      },
      "outputs": [
        {
          "data": {
            "text/plain": [
              "(1, 4, 2, 4)"
            ]
          },
          "execution_count": 120,
          "metadata": {},
          "output_type": "execute_result"
        }
      ],
      "source": [
        "arr4.shape"
      ]
    },
    {
      "cell_type": "code",
      "execution_count": null,
      "metadata": {
        "id": "NM8YRQtdkxtP",
        "outputId": "8b17937e-8919-4709-cd9e-03cc54fbca4f"
      },
      "outputs": [
        {
          "ename": "TypeError",
          "evalue": "'float' object cannot be interpreted as an integer",
          "output_type": "error",
          "traceback": [
            "\u001b[1;31m---------------------------------------------------------------------------\u001b[0m",
            "\u001b[1;31mTypeError\u001b[0m                                 Traceback (most recent call last)",
            "\u001b[1;32m<ipython-input-123-db7bc9899f1b>\u001b[0m in \u001b[0;36m<module>\u001b[1;34m\u001b[0m\n\u001b[1;32m----> 1\u001b[1;33m \u001b[0mlist\u001b[0m\u001b[1;33m(\u001b[0m\u001b[0mrange\u001b[0m\u001b[1;33m(\u001b[0m\u001b[1;36m6.6\u001b[0m\u001b[1;33m)\u001b[0m\u001b[1;33m)\u001b[0m\u001b[1;33m\u001b[0m\u001b[1;33m\u001b[0m\u001b[0m\n\u001b[0m",
            "\u001b[1;31mTypeError\u001b[0m: 'float' object cannot be interpreted as an integer"
          ]
        }
      ],
      "source": [
        "list(range(6.6,9,.3))"
      ]
    },
    {
      "cell_type": "code",
      "execution_count": null,
      "metadata": {
        "id": "mMkT1u3GkxtP",
        "outputId": "efa485c0-3eb6-4f45-836b-5f61e46d30df"
      },
      "outputs": [
        {
          "data": {
            "text/plain": [
              "array([9. , 8.7, 8.4, 8.1, 7.8, 7.5, 7.2, 6.9, 6.6])"
            ]
          },
          "execution_count": 127,
          "metadata": {},
          "output_type": "execute_result"
        }
      ],
      "source": [
        "np.arange(9,6.6,-.3)"
      ]
    },
    {
      "cell_type": "code",
      "execution_count": null,
      "metadata": {
        "id": "YTnMkrD-kxtP",
        "outputId": "48134e85-8767-4cae-ec6f-7e7109b423d8"
      },
      "outputs": [
        {
          "data": {
            "text/plain": [
              "array([1, 2, 3, 4, 5, 6, 7, 8])"
            ]
          },
          "execution_count": 128,
          "metadata": {},
          "output_type": "execute_result"
        }
      ],
      "source": [
        "np.arange(1,9)"
      ]
    },
    {
      "cell_type": "code",
      "execution_count": null,
      "metadata": {
        "id": "vjD8BaDdkxtQ",
        "outputId": "09ebb971-5fc1-4b32-a8e9-1498d356857a"
      },
      "outputs": [
        {
          "data": {
            "text/plain": [
              "array([ 1.  ,  3.25,  5.5 ,  7.75, 10.  ])"
            ]
          },
          "execution_count": 140,
          "metadata": {},
          "output_type": "execute_result"
        }
      ],
      "source": [
        "np.linspace(1,10,5)"
      ]
    },
    {
      "cell_type": "code",
      "execution_count": null,
      "metadata": {
        "id": "bYzv4f-dkxtQ",
        "outputId": "4f2c4243-345e-415b-ff4e-6424619a582d"
      },
      "outputs": [
        {
          "data": {
            "text/plain": [
              "array([0., 0., 0., 0., 0.])"
            ]
          },
          "execution_count": 141,
          "metadata": {},
          "output_type": "execute_result"
        }
      ],
      "source": [
        "np.zeros(5)"
      ]
    },
    {
      "cell_type": "code",
      "execution_count": null,
      "metadata": {
        "id": "Bdley5SbkxtQ",
        "outputId": "1fb0f2e3-fa0b-4f69-bd0a-3c6b9c894975"
      },
      "outputs": [
        {
          "data": {
            "text/plain": [
              "array([[[0., 0., 0., 0.],\n",
              "        [0., 0., 0., 0.],\n",
              "        [0., 0., 0., 0.],\n",
              "        [0., 0., 0., 0.],\n",
              "        [0., 0., 0., 0.]],\n",
              "\n",
              "       [[0., 0., 0., 0.],\n",
              "        [0., 0., 0., 0.],\n",
              "        [0., 0., 0., 0.],\n",
              "        [0., 0., 0., 0.],\n",
              "        [0., 0., 0., 0.]]])"
            ]
          },
          "execution_count": 145,
          "metadata": {},
          "output_type": "execute_result"
        }
      ],
      "source": [
        "np.zeros((2,5,4))"
      ]
    },
    {
      "cell_type": "code",
      "execution_count": null,
      "metadata": {
        "id": "su9i6XuikxtQ",
        "outputId": "a502d749-0345-4997-dd33-94d64a4c489a"
      },
      "outputs": [
        {
          "data": {
            "text/plain": [
              "array([1., 1., 1., 1.])"
            ]
          },
          "execution_count": 146,
          "metadata": {},
          "output_type": "execute_result"
        }
      ],
      "source": [
        "np.ones(4)"
      ]
    },
    {
      "cell_type": "code",
      "execution_count": null,
      "metadata": {
        "id": "rOT7cCXnkxtR",
        "outputId": "4d61a1af-cc92-44d5-ac7d-086b551f508c"
      },
      "outputs": [
        {
          "data": {
            "text/plain": [
              "array([[[6.],\n",
              "        [6.],\n",
              "        [6.]],\n",
              "\n",
              "       [[6.],\n",
              "        [6.],\n",
              "        [6.]]])"
            ]
          },
          "execution_count": 149,
          "metadata": {},
          "output_type": "execute_result"
        }
      ],
      "source": [
        "np.ones((2,3,1))+5"
      ]
    },
    {
      "cell_type": "code",
      "execution_count": null,
      "metadata": {
        "id": "xB28DaplkxtR",
        "outputId": "ce376d4d-dcd4-4eed-ef0f-eb4872768617"
      },
      "outputs": [
        {
          "data": {
            "text/plain": [
              "array([0., 0., 0., 0., 0.])"
            ]
          },
          "execution_count": 150,
          "metadata": {},
          "output_type": "execute_result"
        }
      ],
      "source": [
        "np.empty(5)"
      ]
    },
    {
      "cell_type": "code",
      "execution_count": null,
      "metadata": {
        "id": "CA1O5TdWkxtR",
        "outputId": "1ade88ce-964b-4f69-dade-4a4ebc826e7d"
      },
      "outputs": [
        {
          "data": {
            "text/plain": [
              "array([[1.36976717e-311, 2.47032823e-322, 0.00000000e+000,\n",
              "        0.00000000e+000],\n",
              "       [0.00000000e+000, 8.60952352e-072, 4.22470126e-090,\n",
              "        1.80194451e+185],\n",
              "       [8.31857002e-072, 1.79218578e+160, 3.99910963e+252,\n",
              "        1.29200800e+161]])"
            ]
          },
          "execution_count": 151,
          "metadata": {},
          "output_type": "execute_result"
        }
      ],
      "source": [
        "np.empty((3,4))"
      ]
    },
    {
      "cell_type": "code",
      "execution_count": null,
      "metadata": {
        "id": "H9SY5xa6kxtR",
        "outputId": "a0b21e37-4757-41f9-cc1b-75a5f389cb68"
      },
      "outputs": [
        {
          "data": {
            "text/plain": [
              "array([[1., 0., 0.],\n",
              "       [0., 1., 0.],\n",
              "       [0., 0., 1.]])"
            ]
          },
          "execution_count": 152,
          "metadata": {},
          "output_type": "execute_result"
        }
      ],
      "source": [
        "np.eye(3)"
      ]
    },
    {
      "cell_type": "code",
      "execution_count": null,
      "metadata": {
        "id": "jeJ2-I1AkxtS",
        "outputId": "1c2254cf-dad6-4c1a-ff5f-67f25c96207b"
      },
      "outputs": [
        {
          "data": {
            "text/plain": [
              "array([[1.  , 1.06, 1.12, 1.18, 1.24, 1.3 , 1.36, 1.42, 1.48, 1.54, 1.6 ,\n",
              "        1.66, 1.72, 1.78, 1.84, 1.9 , 1.96, 2.02, 2.08, 2.14, 2.2 , 2.26,\n",
              "        2.32, 2.38, 2.44, 2.5 , 2.56, 2.62, 2.68, 2.74, 2.8 , 2.86, 2.92,\n",
              "        2.98, 3.04, 3.1 , 3.16, 3.22, 3.28, 3.34, 3.4 , 3.46, 3.52, 3.58,\n",
              "        3.64, 3.7 , 3.76, 3.82, 3.88, 3.94],\n",
              "       [6.  , 5.96, 5.92, 5.88, 5.84, 5.8 , 5.76, 5.72, 5.68, 5.64, 5.6 ,\n",
              "        5.56, 5.52, 5.48, 5.44, 5.4 , 5.36, 5.32, 5.28, 5.24, 5.2 , 5.16,\n",
              "        5.12, 5.08, 5.04, 5.  , 4.96, 4.92, 4.88, 4.84, 4.8 , 4.76, 4.72,\n",
              "        4.68, 4.64, 4.6 , 4.56, 4.52, 4.48, 4.44, 4.4 , 4.36, 4.32, 4.28,\n",
              "        4.24, 4.2 , 4.16, 4.12, 4.08, 4.04]])"
            ]
          },
          "execution_count": 160,
          "metadata": {},
          "output_type": "execute_result"
        }
      ],
      "source": [
        "np.linspace([1,6],4,endpoint=False,axis=1)"
      ]
    },
    {
      "cell_type": "code",
      "execution_count": null,
      "metadata": {
        "id": "fuAXwBWTkxtS",
        "outputId": "547e86ba-aa5b-4f8a-9dbb-dc39cab4a1a9"
      },
      "outputs": [
        {
          "data": {
            "text/plain": [
              "array([[ 100.        ],\n",
              "       [ 104.81131342],\n",
              "       [ 109.8541142 ],\n",
              "       [ 115.13953993],\n",
              "       [ 120.67926406],\n",
              "       [ 126.48552169],\n",
              "       [ 132.57113656],\n",
              "       [ 138.94954944],\n",
              "       [ 145.63484775],\n",
              "       [ 152.64179672],\n",
              "       [ 159.98587196],\n",
              "       [ 167.68329368],\n",
              "       [ 175.75106249],\n",
              "       [ 184.20699693],\n",
              "       [ 193.06977289],\n",
              "       [ 202.35896477],\n",
              "       [ 212.09508879],\n",
              "       [ 222.29964825],\n",
              "       [ 232.99518105],\n",
              "       [ 244.20530945],\n",
              "       [ 255.95479227],\n",
              "       [ 268.26957953],\n",
              "       [ 281.1768698 ],\n",
              "       [ 294.70517026],\n",
              "       [ 308.88435965],\n",
              "       [ 323.74575428],\n",
              "       [ 339.32217719],\n",
              "       [ 355.64803062],\n",
              "       [ 372.75937203],\n",
              "       [ 390.69399371],\n",
              "       [ 409.49150624],\n",
              "       [ 429.19342601],\n",
              "       [ 449.8432669 ],\n",
              "       [ 471.48663635],\n",
              "       [ 494.17133613],\n",
              "       [ 517.94746792],\n",
              "       [ 542.86754393],\n",
              "       [ 568.9866029 ],\n",
              "       [ 596.36233166],\n",
              "       [ 625.05519253],\n",
              "       [ 655.12855686],\n",
              "       [ 686.648845  ],\n",
              "       [ 719.685673  ],\n",
              "       [ 754.31200634],\n",
              "       [ 790.60432109],\n",
              "       [ 828.64277285],\n",
              "       [ 868.51137375],\n",
              "       [ 910.29817799],\n",
              "       [ 954.09547635],\n",
              "       [1000.        ]])"
            ]
          },
          "execution_count": 170,
          "metadata": {},
          "output_type": "execute_result"
        }
      ],
      "source": [
        "np.logspace([2],[3] , axis = 0)"
      ]
    },
    {
      "cell_type": "code",
      "execution_count": null,
      "metadata": {
        "id": "j-rhpolSkxtT"
      },
      "outputs": [],
      "source": [
        "d = np.linspace(4,7,40)"
      ]
    },
    {
      "cell_type": "code",
      "execution_count": null,
      "metadata": {
        "id": "WveEqf-ykxtT",
        "outputId": "f35d6f5e-33d3-4ae3-98e7-c4acdabfcb9f"
      },
      "outputs": [
        {
          "data": {
            "text/plain": [
              "array([4.        , 4.07692308, 4.15384615, 4.23076923, 4.30769231,\n",
              "       4.38461538, 4.46153846, 4.53846154, 4.61538462, 4.69230769,\n",
              "       4.76923077, 4.84615385, 4.92307692, 5.        , 5.07692308,\n",
              "       5.15384615, 5.23076923, 5.30769231, 5.38461538, 5.46153846,\n",
              "       5.53846154, 5.61538462, 5.69230769, 5.76923077, 5.84615385,\n",
              "       5.92307692, 6.        , 6.07692308, 6.15384615, 6.23076923,\n",
              "       6.30769231, 6.38461538, 6.46153846, 6.53846154, 6.61538462,\n",
              "       6.69230769, 6.76923077, 6.84615385, 6.92307692, 7.        ])"
            ]
          },
          "execution_count": 172,
          "metadata": {},
          "output_type": "execute_result"
        }
      ],
      "source": [
        "d"
      ]
    },
    {
      "cell_type": "code",
      "execution_count": null,
      "metadata": {
        "id": "uRmukk11kxtT",
        "outputId": "bdb88024-d7ff-4f8f-e550-95d9e11b8385"
      },
      "outputs": [
        {
          "data": {
            "text/plain": [
              "1"
            ]
          },
          "execution_count": 173,
          "metadata": {},
          "output_type": "execute_result"
        }
      ],
      "source": [
        "d.ndim"
      ]
    },
    {
      "cell_type": "code",
      "execution_count": null,
      "metadata": {
        "id": "VubRw6zykxtT",
        "outputId": "8fd33657-be79-475f-8f5a-ce83e9715465"
      },
      "outputs": [
        {
          "data": {
            "text/plain": [
              "(40,)"
            ]
          },
          "execution_count": 174,
          "metadata": {},
          "output_type": "execute_result"
        }
      ],
      "source": [
        "d.shape"
      ]
    },
    {
      "cell_type": "code",
      "execution_count": null,
      "metadata": {
        "id": "4XuWl3OWkxtU",
        "outputId": "0f030f93-98d0-4c42-99b3-35c8ae2563af"
      },
      "outputs": [
        {
          "data": {
            "text/plain": [
              "array([[4.        ],\n",
              "       [4.07692308],\n",
              "       [4.15384615],\n",
              "       [4.23076923],\n",
              "       [4.30769231],\n",
              "       [4.38461538],\n",
              "       [4.46153846],\n",
              "       [4.53846154],\n",
              "       [4.61538462],\n",
              "       [4.69230769],\n",
              "       [4.76923077],\n",
              "       [4.84615385],\n",
              "       [4.92307692],\n",
              "       [5.        ],\n",
              "       [5.07692308],\n",
              "       [5.15384615],\n",
              "       [5.23076923],\n",
              "       [5.30769231],\n",
              "       [5.38461538],\n",
              "       [5.46153846],\n",
              "       [5.53846154],\n",
              "       [5.61538462],\n",
              "       [5.69230769],\n",
              "       [5.76923077],\n",
              "       [5.84615385],\n",
              "       [5.92307692],\n",
              "       [6.        ],\n",
              "       [6.07692308],\n",
              "       [6.15384615],\n",
              "       [6.23076923],\n",
              "       [6.30769231],\n",
              "       [6.38461538],\n",
              "       [6.46153846],\n",
              "       [6.53846154],\n",
              "       [6.61538462],\n",
              "       [6.69230769],\n",
              "       [6.76923077],\n",
              "       [6.84615385],\n",
              "       [6.92307692],\n",
              "       [7.        ]])"
            ]
          },
          "execution_count": 175,
          "metadata": {},
          "output_type": "execute_result"
        }
      ],
      "source": [
        "d.reshape(40,1)"
      ]
    },
    {
      "cell_type": "code",
      "execution_count": null,
      "metadata": {
        "id": "E9HrJxOHkxtU",
        "outputId": "1d481f98-c398-41b9-d899-2e214359ee66"
      },
      "outputs": [
        {
          "data": {
            "text/plain": [
              "array([[[4.        , 4.07692308, 4.15384615, 4.23076923, 4.30769231,\n",
              "         4.38461538, 4.46153846, 4.53846154, 4.61538462, 4.69230769],\n",
              "        [4.76923077, 4.84615385, 4.92307692, 5.        , 5.07692308,\n",
              "         5.15384615, 5.23076923, 5.30769231, 5.38461538, 5.46153846],\n",
              "        [5.53846154, 5.61538462, 5.69230769, 5.76923077, 5.84615385,\n",
              "         5.92307692, 6.        , 6.07692308, 6.15384615, 6.23076923],\n",
              "        [6.30769231, 6.38461538, 6.46153846, 6.53846154, 6.61538462,\n",
              "         6.69230769, 6.76923077, 6.84615385, 6.92307692, 7.        ]]])"
            ]
          },
          "execution_count": 180,
          "metadata": {},
          "output_type": "execute_result"
        }
      ],
      "source": [
        "d.reshape(1,4,10)"
      ]
    },
    {
      "cell_type": "code",
      "execution_count": null,
      "metadata": {
        "id": "9hNWsNi7kxtV",
        "outputId": "d03f8483-508b-4a75-b4fe-41fbfac4afff"
      },
      "outputs": [
        {
          "data": {
            "text/plain": [
              "array([   100.        ,    215.443469  ,    464.15888336,   1000.        ,\n",
              "         2154.43469003,   4641.58883361,  10000.        ,  21544.34690032,\n",
              "        46415.88833613, 100000.        ])"
            ]
          },
          "execution_count": 181,
          "metadata": {},
          "output_type": "execute_result"
        }
      ],
      "source": [
        "np.logspace(2,5,10)\n"
      ]
    },
    {
      "cell_type": "code",
      "execution_count": null,
      "metadata": {
        "id": "8r_ePHLBkxtV",
        "outputId": "ab6592a4-f690-4bf8-d1c4-3e81b92349cc"
      },
      "outputs": [
        {
          "data": {
            "text/plain": [
              "array([0.55386094, 0.36578256, 0.18724663])"
            ]
          },
          "execution_count": 182,
          "metadata": {},
          "output_type": "execute_result"
        }
      ],
      "source": [
        "np.random.rand(3)"
      ]
    },
    {
      "cell_type": "code",
      "execution_count": null,
      "metadata": {
        "id": "uUPg3SsakxtW",
        "outputId": "a8cc314c-3fd1-40ee-8b57-e41b1f2b2288"
      },
      "outputs": [
        {
          "data": {
            "text/plain": [
              "array([-0.99738232, -0.29937244, -1.6336683 , -0.37804326, -0.73977523])"
            ]
          },
          "execution_count": 183,
          "metadata": {},
          "output_type": "execute_result"
        }
      ],
      "source": [
        "np.random.randn(5)"
      ]
    },
    {
      "cell_type": "code",
      "execution_count": null,
      "metadata": {
        "id": "C3zlHBcxkxtW",
        "outputId": "2f60f4a3-5161-42ff-9c1a-a71a260d324d"
      },
      "outputs": [
        {
          "data": {
            "text/plain": [
              "array([[[ 1.47338029,  0.61271404, -1.4075616 ],\n",
              "        [ 0.76839332, -0.12216353, -0.09569462]],\n",
              "\n",
              "       [[ 0.84685866,  0.53664687,  0.38711111],\n",
              "        [-0.32053034,  0.53523058, -0.76029515]]])"
            ]
          },
          "execution_count": 194,
          "metadata": {},
          "output_type": "execute_result"
        }
      ],
      "source": [
        "np.random.randn(2,2,3)"
      ]
    },
    {
      "cell_type": "code",
      "execution_count": null,
      "metadata": {
        "id": "95yc0e6skxtW",
        "outputId": "c3f40fc5-cde6-45c4-b2f0-bb967263f819"
      },
      "outputs": [
        {
          "data": {
            "text/plain": [
              "array([[30, 50, 58, 40],\n",
              "       [10, 51, 38, 26],\n",
              "       [19, 10, 14, 55],\n",
              "       [ 8, 32, 59, 39]])"
            ]
          },
          "execution_count": 203,
          "metadata": {},
          "output_type": "execute_result"
        }
      ],
      "source": [
        "np.random.randint(5,60, (4,4))"
      ]
    },
    {
      "cell_type": "code",
      "execution_count": null,
      "metadata": {
        "id": "RsWnEARZkxtX",
        "outputId": "f9e0802a-9c10-4abb-c4db-a7a976c1a291"
      },
      "outputs": [
        {
          "data": {
            "text/plain": [
              "array([[[-0.18658137, -2.62084719,  0.05678706],\n",
              "        [ 0.80066306,  0.32081787,  0.04011781]],\n",
              "\n",
              "       [[-0.67044971, -0.26951513,  1.56406203],\n",
              "        [ 1.70218004, -1.43323041, -1.91830673]]])"
            ]
          },
          "execution_count": 204,
          "metadata": {},
          "output_type": "execute_result"
        }
      ],
      "source": [
        "np.random.randn(2,2,3)"
      ]
    },
    {
      "cell_type": "code",
      "execution_count": null,
      "metadata": {
        "id": "muggIuf4kxtY"
      },
      "outputs": [],
      "source": [
        "arr = np.random.randint(3,9, ( 3,3))"
      ]
    },
    {
      "cell_type": "code",
      "execution_count": null,
      "metadata": {
        "id": "mAb4jA-dkxtY",
        "outputId": "742e13b1-afb0-4ae8-de93-1a87a6b99523"
      },
      "outputs": [
        {
          "data": {
            "text/plain": [
              "array([[5, 3, 5],\n",
              "       [7, 6, 4],\n",
              "       [7, 6, 7]])"
            ]
          },
          "execution_count": 206,
          "metadata": {},
          "output_type": "execute_result"
        }
      ],
      "source": [
        "arr"
      ]
    },
    {
      "cell_type": "code",
      "execution_count": null,
      "metadata": {
        "id": "EXpXofJWkxtZ",
        "outputId": "a1935787-fab6-44b2-a734-52ee82856ad0"
      },
      "outputs": [
        {
          "data": {
            "text/plain": [
              "array([[5, 3, 5, 7, 6, 4, 7, 6, 7]])"
            ]
          },
          "execution_count": 207,
          "metadata": {},
          "output_type": "execute_result"
        }
      ],
      "source": [
        "arr.reshape(1,9)"
      ]
    },
    {
      "cell_type": "code",
      "execution_count": null,
      "metadata": {
        "id": "05wPmOZQkxtZ",
        "outputId": "3554e2a5-b6b1-4ab8-f044-0974b41b3bdb"
      },
      "outputs": [
        {
          "data": {
            "text/plain": [
              "array([[5],\n",
              "       [3],\n",
              "       [5],\n",
              "       [7],\n",
              "       [6],\n",
              "       [4],\n",
              "       [7],\n",
              "       [6],\n",
              "       [7]])"
            ]
          },
          "execution_count": 208,
          "metadata": {},
          "output_type": "execute_result"
        }
      ],
      "source": [
        "arr.reshape(9,1)"
      ]
    },
    {
      "cell_type": "code",
      "execution_count": null,
      "metadata": {
        "id": "aVFRCAokkxtZ",
        "outputId": "0ae3df31-83c9-4bbc-94b6-d8d955d467b8"
      },
      "outputs": [
        {
          "data": {
            "text/plain": [
              "array([[[5, 3, 5, 7, 6, 4, 7, 6, 7]]])"
            ]
          },
          "execution_count": 209,
          "metadata": {},
          "output_type": "execute_result"
        }
      ],
      "source": [
        "arr.reshape(1,1,9)"
      ]
    },
    {
      "cell_type": "code",
      "execution_count": null,
      "metadata": {
        "id": "MIO6CgaXkxta",
        "outputId": "a9fa5a8e-400d-481b-ea75-8751a6d961fb"
      },
      "outputs": [
        {
          "data": {
            "text/plain": [
              "array([[[5],\n",
              "        [3],\n",
              "        [5]],\n",
              "\n",
              "       [[7],\n",
              "        [6],\n",
              "        [4]],\n",
              "\n",
              "       [[7],\n",
              "        [6],\n",
              "        [7]]])"
            ]
          },
          "execution_count": 210,
          "metadata": {},
          "output_type": "execute_result"
        }
      ],
      "source": [
        "arr.reshape(3,3,1)"
      ]
    },
    {
      "cell_type": "code",
      "execution_count": null,
      "metadata": {
        "id": "VbrSd3Jfkxta",
        "outputId": "83505b3c-3ceb-421b-bd35-a602d38244ae"
      },
      "outputs": [
        {
          "data": {
            "text/plain": [
              "array([[5, 3, 5],\n",
              "       [7, 6, 4],\n",
              "       [7, 6, 7]])"
            ]
          },
          "execution_count": 215,
          "metadata": {},
          "output_type": "execute_result"
        }
      ],
      "source": [
        "arr.reshape(3,-198979)"
      ]
    },
    {
      "cell_type": "code",
      "execution_count": null,
      "metadata": {
        "id": "d-GYHPFbkxta",
        "outputId": "f6a254e8-922d-402f-d88c-9d0068e33c7d"
      },
      "outputs": [
        {
          "data": {
            "text/plain": [
              "array([[5, 3, 5, 7, 6, 4, 7, 6, 7]])"
            ]
          },
          "execution_count": 217,
          "metadata": {},
          "output_type": "execute_result"
        }
      ],
      "source": [
        "arr.reshape(1,-145654656)"
      ]
    },
    {
      "cell_type": "code",
      "execution_count": null,
      "metadata": {
        "id": "uz4TXhxPkxtb",
        "outputId": "db3e353a-685f-4a6e-d45e-2e0c6be96cd4"
      },
      "outputs": [
        {
          "data": {
            "text/plain": [
              "array([[5, 3, 5],\n",
              "       [7, 6, 4],\n",
              "       [7, 6, 7]])"
            ]
          },
          "execution_count": 218,
          "metadata": {},
          "output_type": "execute_result"
        }
      ],
      "source": [
        "arr"
      ]
    },
    {
      "cell_type": "code",
      "execution_count": null,
      "metadata": {
        "id": "bn1gvWLUkxtb",
        "outputId": "82e0c452-3cd3-4cb1-a268-2c61884810b2"
      },
      "outputs": [
        {
          "data": {
            "text/plain": [
              "7"
            ]
          },
          "execution_count": 219,
          "metadata": {},
          "output_type": "execute_result"
        }
      ],
      "source": [
        "arr.max()"
      ]
    },
    {
      "cell_type": "code",
      "execution_count": null,
      "metadata": {
        "id": "GWVUqSpNkxtc",
        "outputId": "6ce689aa-b3b7-4cb0-bdef-adaafe9fcb72"
      },
      "outputs": [
        {
          "data": {
            "text/plain": [
              "3"
            ]
          },
          "execution_count": 220,
          "metadata": {},
          "output_type": "execute_result"
        }
      ],
      "source": [
        "arr.min()"
      ]
    },
    {
      "cell_type": "code",
      "execution_count": null,
      "metadata": {
        "id": "9u52YW6Akxtc"
      },
      "outputs": [],
      "source": [
        "arr = np.random.randint(4,100, (5,5))"
      ]
    },
    {
      "cell_type": "code",
      "execution_count": null,
      "metadata": {
        "id": "rmsZ2iRFkxtd",
        "outputId": "4f8837ec-ff73-4130-ec80-2cde91a206a6"
      },
      "outputs": [
        {
          "data": {
            "text/plain": [
              "array([[33, 90, 97, 11,  4],\n",
              "       [49, 40, 83, 38, 64],\n",
              "       [ 6, 49, 99, 86, 96],\n",
              "       [48, 58, 91, 66,  8],\n",
              "       [31, 24, 34, 64, 62]])"
            ]
          },
          "execution_count": 225,
          "metadata": {},
          "output_type": "execute_result"
        }
      ],
      "source": [
        "arr"
      ]
    },
    {
      "cell_type": "code",
      "execution_count": null,
      "metadata": {
        "id": "5cdO0wdlkxtd",
        "outputId": "1ced4c1c-90c9-44ad-dffa-f1fa23e685e6"
      },
      "outputs": [
        {
          "data": {
            "text/plain": [
              "array([[66,  8],\n",
              "       [64, 62]])"
            ]
          },
          "execution_count": 226,
          "metadata": {},
          "output_type": "execute_result"
        }
      ],
      "source": [
        "arr[3: , 3:]"
      ]
    },
    {
      "cell_type": "code",
      "execution_count": null,
      "metadata": {
        "id": "s25rL9Pikxte",
        "outputId": "425df9ea-7045-4281-adab-8f8433ed0194"
      },
      "outputs": [
        {
          "data": {
            "text/plain": [
              "array([[90, 11],\n",
              "       [40, 38],\n",
              "       [49, 86],\n",
              "       [58, 66],\n",
              "       [24, 64]])"
            ]
          },
          "execution_count": 227,
          "metadata": {},
          "output_type": "execute_result"
        }
      ],
      "source": [
        "arr[:,[1,3]]"
      ]
    },
    {
      "cell_type": "code",
      "execution_count": null,
      "metadata": {
        "id": "no6K-K24kxtf",
        "outputId": "57f6759a-fcab-49be-97e6-4d492c05bba0"
      },
      "outputs": [
        {
          "data": {
            "text/plain": [
              "array([[33, 90, 97, 11,  4],\n",
              "       [49, 40, 83, 38, 64],\n",
              "       [ 6, 49, 99, 86, 96],\n",
              "       [48, 58, 91, 66,  8],\n",
              "       [31, 24, 34, 64, 62]])"
            ]
          },
          "execution_count": 228,
          "metadata": {},
          "output_type": "execute_result"
        }
      ],
      "source": [
        "arr"
      ]
    },
    {
      "cell_type": "code",
      "execution_count": null,
      "metadata": {
        "id": "My_M2c91kxtf",
        "outputId": "2ad1e4d1-051a-4258-c018-41308b7c4a68"
      },
      "outputs": [
        {
          "data": {
            "text/plain": [
              "array([33, 90, 97, 11, 49, 40, 83, 38, 64, 49, 99, 86, 96, 48, 58, 91, 66,\n",
              "       31, 24, 34, 64, 62])"
            ]
          },
          "execution_count": 230,
          "metadata": {},
          "output_type": "execute_result"
        }
      ],
      "source": [
        "arr[arr>10]"
      ]
    },
    {
      "cell_type": "code",
      "execution_count": null,
      "metadata": {
        "id": "P_RbfUWbkxtf",
        "outputId": "0ab20b50-2fe9-4292-d798-48df1949563e"
      },
      "outputs": [
        {
          "data": {
            "text/plain": [
              "array([[ True,  True,  True,  True, False],\n",
              "       [ True,  True,  True,  True,  True],\n",
              "       [False,  True,  True,  True,  True],\n",
              "       [ True,  True,  True,  True, False],\n",
              "       [ True,  True,  True,  True,  True]])"
            ]
          },
          "execution_count": 231,
          "metadata": {},
          "output_type": "execute_result"
        }
      ],
      "source": [
        "arr>10"
      ]
    },
    {
      "cell_type": "code",
      "execution_count": null,
      "metadata": {
        "id": "v3DPRCOzkxtf",
        "outputId": "d0b8033e-0a0a-4f0d-f5d3-eab01ace8147"
      },
      "outputs": [
        {
          "data": {
            "text/plain": [
              "array([[33, 90, 97, 11,  4],\n",
              "       [49, 40, 83, 38, 64],\n",
              "       [ 6, 49, 99, 86, 96],\n",
              "       [48, 58, 91, 66,  8],\n",
              "       [31, 24, 34, 64, 62]])"
            ]
          },
          "execution_count": 232,
          "metadata": {},
          "output_type": "execute_result"
        }
      ],
      "source": [
        "arr"
      ]
    },
    {
      "cell_type": "code",
      "execution_count": null,
      "metadata": {
        "id": "y6PFfbd2kxtg",
        "outputId": "1be19d0c-5025-472d-fc32-3bed9f478e48"
      },
      "outputs": [
        {
          "data": {
            "text/plain": [
              "array([[1089, 8100, 9409,  121,   16],\n",
              "       [2401, 1600, 6889, 1444, 4096],\n",
              "       [  36, 2401, 9801, 7396, 9216],\n",
              "       [2304, 3364, 8281, 4356,   64],\n",
              "       [ 961,  576, 1156, 4096, 3844]])"
            ]
          },
          "execution_count": 233,
          "metadata": {},
          "output_type": "execute_result"
        }
      ],
      "source": [
        "arr * arr"
      ]
    },
    {
      "cell_type": "code",
      "execution_count": null,
      "metadata": {
        "id": "d9uqNrw0kxtg"
      },
      "outputs": [],
      "source": [
        "arr1 = np.random.randint(2,4,(3,3))"
      ]
    },
    {
      "cell_type": "code",
      "execution_count": null,
      "metadata": {
        "id": "x0P1lxizkxtg"
      },
      "outputs": [],
      "source": [
        "arr2 = np.random.randint(2,4,(3,3))"
      ]
    },
    {
      "cell_type": "code",
      "execution_count": null,
      "metadata": {
        "id": "UXuPsAKLkxtg",
        "outputId": "d9e92170-da74-4da9-860d-b4d9b5df1626"
      },
      "outputs": [
        {
          "data": {
            "text/plain": [
              "array([[2, 3, 3],\n",
              "       [3, 2, 3],\n",
              "       [3, 3, 2]])"
            ]
          },
          "execution_count": 245,
          "metadata": {},
          "output_type": "execute_result"
        }
      ],
      "source": [
        "arr1"
      ]
    },
    {
      "cell_type": "code",
      "execution_count": null,
      "metadata": {
        "id": "9na7aPWJkxth",
        "outputId": "f0b6d3a1-23d8-4a03-98aa-670a5228c2ab"
      },
      "outputs": [
        {
          "data": {
            "text/plain": [
              "array([[2, 2, 3],\n",
              "       [3, 3, 3],\n",
              "       [3, 2, 3]])"
            ]
          },
          "execution_count": 246,
          "metadata": {},
          "output_type": "execute_result"
        }
      ],
      "source": [
        "arr2"
      ]
    },
    {
      "cell_type": "code",
      "execution_count": null,
      "metadata": {
        "id": "Yb7BR4zMkxth",
        "outputId": "2e4ad9b4-3368-4039-b47c-4f51084a7439"
      },
      "outputs": [
        {
          "data": {
            "text/plain": [
              "array([[4, 6, 9],\n",
              "       [9, 6, 9],\n",
              "       [9, 6, 6]])"
            ]
          },
          "execution_count": 247,
          "metadata": {},
          "output_type": "execute_result"
        }
      ],
      "source": [
        "arr1*arr2"
      ]
    },
    {
      "cell_type": "code",
      "execution_count": null,
      "metadata": {
        "id": "T2ZyyY7Hkxth",
        "outputId": "41ce58cd-eaef-4c5a-86fb-e0d2692cb2e9"
      },
      "outputs": [
        {
          "data": {
            "text/plain": [
              "array([[22, 19, 24],\n",
              "       [21, 18, 24],\n",
              "       [21, 19, 24]])"
            ]
          },
          "execution_count": 248,
          "metadata": {},
          "output_type": "execute_result"
        }
      ],
      "source": [
        "arr1@arr2"
      ]
    },
    {
      "cell_type": "code",
      "execution_count": null,
      "metadata": {
        "id": "L-lHF1A2kxti",
        "outputId": "0cc0bfea-a244-4a96-eabd-e7adb68e4c8c"
      },
      "outputs": [
        {
          "name": "stderr",
          "output_type": "stream",
          "text": [
            "<ipython-input-249-39e2cbdaf753>:1: RuntimeWarning: divide by zero encountered in true_divide\n",
            "  arr/0\n"
          ]
        },
        {
          "data": {
            "text/plain": [
              "array([[inf, inf, inf, inf, inf],\n",
              "       [inf, inf, inf, inf, inf],\n",
              "       [inf, inf, inf, inf, inf],\n",
              "       [inf, inf, inf, inf, inf],\n",
              "       [inf, inf, inf, inf, inf]])"
            ]
          },
          "execution_count": 249,
          "metadata": {},
          "output_type": "execute_result"
        }
      ],
      "source": [
        "arr/0"
      ]
    },
    {
      "cell_type": "code",
      "execution_count": null,
      "metadata": {
        "id": "Tg3QI1Fykxti",
        "outputId": "b5c6f60b-48ea-4339-d447-39eefb1fa00a"
      },
      "outputs": [
        {
          "data": {
            "text/plain": [
              "array([[1089, 8100, 9409,  121,   16],\n",
              "       [2401, 1600, 6889, 1444, 4096],\n",
              "       [  36, 2401, 9801, 7396, 9216],\n",
              "       [2304, 3364, 8281, 4356,   64],\n",
              "       [ 961,  576, 1156, 4096, 3844]], dtype=int32)"
            ]
          },
          "execution_count": 250,
          "metadata": {},
          "output_type": "execute_result"
        }
      ],
      "source": [
        "arr**2"
      ]
    },
    {
      "cell_type": "code",
      "execution_count": null,
      "metadata": {
        "id": "9pnPSNoHkxti"
      },
      "outputs": [],
      "source": [
        "arr = np.zeros((3,4))"
      ]
    },
    {
      "cell_type": "code",
      "execution_count": null,
      "metadata": {
        "id": "IP-6Jopikxti",
        "outputId": "ba56ba57-f265-4dc6-9685-e68acc46ef4b"
      },
      "outputs": [
        {
          "data": {
            "text/plain": [
              "array([[0., 0., 0., 0.],\n",
              "       [0., 0., 0., 0.],\n",
              "       [0., 0., 0., 0.]])"
            ]
          },
          "execution_count": 253,
          "metadata": {},
          "output_type": "execute_result"
        }
      ],
      "source": [
        "arr"
      ]
    },
    {
      "cell_type": "code",
      "execution_count": null,
      "metadata": {
        "id": "3OQr-_ldkxtj"
      },
      "outputs": [],
      "source": [
        "a = np.array([1,2,3,5])"
      ]
    },
    {
      "cell_type": "code",
      "execution_count": null,
      "metadata": {
        "id": "RHjm9H-Mkxtj",
        "outputId": "02760ea0-6022-4e5f-9623-a7ef1e989499"
      },
      "outputs": [
        {
          "data": {
            "text/plain": [
              "array([1, 2, 3, 5])"
            ]
          },
          "execution_count": 262,
          "metadata": {},
          "output_type": "execute_result"
        }
      ],
      "source": [
        "a\n"
      ]
    },
    {
      "cell_type": "code",
      "execution_count": null,
      "metadata": {
        "id": "YfBT515nkxtj",
        "outputId": "9b5871cd-10ab-437e-e15d-90ae5155df0c"
      },
      "outputs": [
        {
          "data": {
            "text/plain": [
              "array([[1., 2., 3., 5.],\n",
              "       [1., 2., 3., 5.],\n",
              "       [1., 2., 3., 5.]])"
            ]
          },
          "execution_count": 263,
          "metadata": {},
          "output_type": "execute_result"
        }
      ],
      "source": [
        "arr + a"
      ]
    },
    {
      "cell_type": "code",
      "execution_count": null,
      "metadata": {
        "id": "O26ZSjwakxtj",
        "outputId": "8f37ca2b-3d9a-40d6-e085-208784254fc3"
      },
      "outputs": [
        {
          "data": {
            "text/plain": [
              "array([[5., 5., 5., 5.],\n",
              "       [5., 5., 5., 5.],\n",
              "       [5., 5., 5., 5.]])"
            ]
          },
          "execution_count": 257,
          "metadata": {},
          "output_type": "execute_result"
        }
      ],
      "source": [
        "arr+ 5"
      ]
    },
    {
      "cell_type": "code",
      "execution_count": null,
      "metadata": {
        "id": "ZPJYmPsTkxtj"
      },
      "outputs": [],
      "source": [
        "b = np.array([5,6,7])"
      ]
    },
    {
      "cell_type": "code",
      "execution_count": null,
      "metadata": {
        "id": "eHy62zgCkxtj",
        "outputId": "c778fb45-85c5-4d3e-fb57-300cea7ae6f3"
      },
      "outputs": [
        {
          "data": {
            "text/plain": [
              "array([5, 6, 7])"
            ]
          },
          "execution_count": 265,
          "metadata": {},
          "output_type": "execute_result"
        }
      ],
      "source": [
        "b"
      ]
    },
    {
      "cell_type": "code",
      "execution_count": null,
      "metadata": {
        "id": "EpHVG8ubkxtk",
        "outputId": "95a7ca1b-4229-41ef-83c2-4eed0d47ece5"
      },
      "outputs": [
        {
          "data": {
            "text/plain": [
              "array([[5., 5., 5., 5.],\n",
              "       [6., 6., 6., 6.],\n",
              "       [7., 7., 7., 7.]])"
            ]
          },
          "execution_count": 268,
          "metadata": {},
          "output_type": "execute_result"
        }
      ],
      "source": [
        "b.reshape(3,1) + arr"
      ]
    },
    {
      "cell_type": "code",
      "execution_count": null,
      "metadata": {
        "id": "M4O2WYxKkxtk",
        "outputId": "f7f8c037-667b-4506-aa24-f8c3d5319987"
      },
      "outputs": [
        {
          "data": {
            "text/plain": [
              "array([5, 6, 7])"
            ]
          },
          "execution_count": 269,
          "metadata": {},
          "output_type": "execute_result"
        }
      ],
      "source": [
        "b"
      ]
    },
    {
      "cell_type": "code",
      "execution_count": null,
      "metadata": {
        "id": "usaSgHJlkxtk",
        "outputId": "bd070ee9-9658-4e73-bf16-d198da5c4adb"
      },
      "outputs": [
        {
          "data": {
            "text/plain": [
              "array([5, 6, 7])"
            ]
          },
          "execution_count": 273,
          "metadata": {},
          "output_type": "execute_result"
        }
      ],
      "source": []
    },
    {
      "cell_type": "code",
      "execution_count": null,
      "metadata": {
        "id": "yqoRnPZEkxtk"
      },
      "outputs": [],
      "source": [
        "b = np.array([[5,6,7]])"
      ]
    },
    {
      "cell_type": "code",
      "execution_count": null,
      "metadata": {
        "id": "nxmVmdGekxtk",
        "outputId": "72121988-21bb-4adb-ecc7-8dcf9d844137"
      },
      "outputs": [
        {
          "data": {
            "text/plain": [
              "array([[5., 5., 5., 5.],\n",
              "       [6., 6., 6., 6.],\n",
              "       [7., 7., 7., 7.]])"
            ]
          },
          "execution_count": 277,
          "metadata": {},
          "output_type": "execute_result"
        }
      ],
      "source": [
        "b.T + arr"
      ]
    },
    {
      "cell_type": "code",
      "execution_count": null,
      "metadata": {
        "id": "PwVtXPQrkxtl",
        "outputId": "c3ca8248-781d-4c80-decd-08c975a73024"
      },
      "outputs": [
        {
          "data": {
            "text/plain": [
              "array([[0., 0., 0., 0.],\n",
              "       [0., 0., 0., 0.],\n",
              "       [0., 0., 0., 0.]])"
            ]
          },
          "execution_count": 278,
          "metadata": {},
          "output_type": "execute_result"
        }
      ],
      "source": [
        "arr"
      ]
    },
    {
      "cell_type": "code",
      "execution_count": null,
      "metadata": {
        "id": "53_k1Twdkxtm"
      },
      "outputs": [],
      "source": [
        "arr = np.random.rand(5,4)"
      ]
    },
    {
      "cell_type": "code",
      "execution_count": null,
      "metadata": {
        "id": "f3eWMepakxtm",
        "outputId": "6fd9160f-883d-44bc-f3aa-5a9d771795b7"
      },
      "outputs": [
        {
          "data": {
            "text/plain": [
              "array([[0.67941063, 0.39266408, 0.3690279 , 0.24322169],\n",
              "       [0.73639163, 0.0401203 , 0.93684485, 0.61136987],\n",
              "       [0.91075051, 0.90249311, 0.48110496, 0.24793594],\n",
              "       [0.95043203, 0.31504451, 0.25094332, 0.6629506 ],\n",
              "       [0.12575233, 0.45982773, 0.34866419, 0.31466519]])"
            ]
          },
          "execution_count": 280,
          "metadata": {},
          "output_type": "execute_result"
        }
      ],
      "source": [
        "arr"
      ]
    },
    {
      "cell_type": "code",
      "execution_count": null,
      "metadata": {
        "id": "bSC9UqoXkxtn",
        "outputId": "74ef8bd1-402a-4136-c29b-a60ec67578fb"
      },
      "outputs": [
        {
          "data": {
            "text/plain": [
              "array([[0.82426369, 0.62662914, 0.60747666, 0.49317511],\n",
              "       [0.85813264, 0.20030052, 0.96790746, 0.78190144],\n",
              "       [0.9543325 , 0.94999637, 0.6936173 , 0.49793166],\n",
              "       [0.97490104, 0.56128826, 0.50094243, 0.81421778],\n",
              "       [0.35461575, 0.67810599, 0.59047794, 0.56095025]])"
            ]
          },
          "execution_count": 281,
          "metadata": {},
          "output_type": "execute_result"
        }
      ],
      "source": [
        "np.sqrt(arr)"
      ]
    },
    {
      "cell_type": "code",
      "execution_count": null,
      "metadata": {
        "id": "QSS57H0kkxtn",
        "outputId": "e37a5664-3d92-450f-ba6f-0afc560d29e0"
      },
      "outputs": [
        {
          "data": {
            "text/plain": [
              "array([[1.97271474, 1.48092083, 1.44632795, 1.27535132],\n",
              "       [2.08838623, 1.04093599, 2.55191703, 1.84295428],\n",
              "       [2.48618775, 2.46574282, 1.61786108, 1.28137784],\n",
              "       [2.58682701, 1.3703203 , 1.28523724, 1.94050956],\n",
              "       [1.13400128, 1.58380112, 1.41717322, 1.3698006 ]])"
            ]
          },
          "execution_count": 282,
          "metadata": {},
          "output_type": "execute_result"
        }
      ],
      "source": [
        "np.exp(arr)"
      ]
    },
    {
      "cell_type": "code",
      "execution_count": null,
      "metadata": {
        "id": "S4NduYgSkxto",
        "outputId": "50cbe2be-4712-41c0-c343-ee860db00418"
      },
      "outputs": [
        {
          "data": {
            "text/plain": [
              "array([[-0.16786766, -0.40597883, -0.4329408 , -0.6139977 ],\n",
              "       [-0.13289116, -1.39663583, -0.02833232, -0.21369597],\n",
              "       [-0.04060057, -0.04455611, -0.31776017, -0.60566052],\n",
              "       [-0.02207894, -0.50162808, -0.60042436, -0.17851883],\n",
              "       [-0.90048395, -0.33740484, -0.45759265, -0.5021513 ]])"
            ]
          },
          "execution_count": 283,
          "metadata": {},
          "output_type": "execute_result"
        }
      ],
      "source": [
        "np.log10(arr)"
      ]
    },
    {
      "cell_type": "code",
      "execution_count": null,
      "metadata": {
        "id": "CFkUs2zPkxtq"
      },
      "outputs": [],
      "source": [
        "arr1 = np.random.randint(2,5, (5,5))"
      ]
    },
    {
      "cell_type": "code",
      "execution_count": null,
      "metadata": {
        "id": "BpXY7E4Okxtr",
        "outputId": "064c6500-7429-4e66-8086-2111814b81a0"
      },
      "outputs": [
        {
          "data": {
            "text/plain": [
              "array([[0.47712125, 0.47712125, 0.60205999, 0.60205999, 0.47712125],\n",
              "       [0.47712125, 0.60205999, 0.60205999, 0.60205999, 0.47712125],\n",
              "       [0.47712125, 0.60205999, 0.30103   , 0.60205999, 0.30103   ],\n",
              "       [0.47712125, 0.30103   , 0.30103   , 0.47712125, 0.47712125],\n",
              "       [0.60205999, 0.47712125, 0.60205999, 0.60205999, 0.47712125]])"
            ]
          },
          "execution_count": 290,
          "metadata": {},
          "output_type": "execute_result"
        }
      ],
      "source": [
        "np.log10(arr1)"
      ]
    },
    {
      "cell_type": "code",
      "execution_count": null,
      "metadata": {
        "id": "NVpbWEhMkxtt",
        "outputId": "7500730e-8cb6-443f-997d-6e80ef817d38"
      },
      "outputs": [
        {
          "data": {
            "text/plain": [
              "array([[3, 3, 4, 4, 3],\n",
              "       [3, 4, 4, 4, 3],\n",
              "       [3, 4, 2, 4, 2],\n",
              "       [3, 2, 2, 3, 3],\n",
              "       [4, 3, 4, 4, 3]])"
            ]
          },
          "execution_count": 287,
          "metadata": {},
          "output_type": "execute_result"
        }
      ],
      "source": [
        "arr1"
      ]
    },
    {
      "cell_type": "code",
      "execution_count": null,
      "metadata": {
        "id": "d2VEeHD3kxtt"
      },
      "outputs": [],
      "source": [
        "np.random.seed(13)"
      ]
    },
    {
      "cell_type": "code",
      "execution_count": null,
      "metadata": {
        "id": "VIAZ4y6ckxtt",
        "outputId": "bcf76f59-9b9b-4e3b-baf5-01a4d8ce13ba"
      },
      "outputs": [
        {
          "data": {
            "text/plain": [
              "array([[0.64414354, 0.38074849, 0.66304791, 0.16365073],\n",
              "       [0.96260781, 0.34666184, 0.99175099, 0.2350579 ]])"
            ]
          },
          "execution_count": 311,
          "metadata": {},
          "output_type": "execute_result"
        }
      ],
      "source": [
        "np.random.seed(30)\n",
        "np.random.rand(2,4)"
      ]
    },
    {
      "cell_type": "code",
      "execution_count": null,
      "metadata": {
        "id": "Cre_FCj5kxtu"
      },
      "outputs": [],
      "source": []
    }
  ],
  "metadata": {
    "kernelspec": {
      "display_name": "Python 3",
      "language": "python",
      "name": "python3"
    },
    "language_info": {
      "codemirror_mode": {
        "name": "ipython",
        "version": 3
      },
      "file_extension": ".py",
      "mimetype": "text/x-python",
      "name": "python",
      "nbconvert_exporter": "python",
      "pygments_lexer": "ipython3",
      "version": "3.8.5"
    },
    "colab": {
      "provenance": []
    }
  },
  "nbformat": 4,
  "nbformat_minor": 0
}